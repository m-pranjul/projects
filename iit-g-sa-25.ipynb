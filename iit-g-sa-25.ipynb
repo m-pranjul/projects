{
 "cells": [
  {
   "cell_type": "code",
   "execution_count": 1,
   "id": "a05d5e40",
   "metadata": {
    "_cell_guid": "b1076dfc-b9ad-4769-8c92-a6c4dae69d19",
    "_uuid": "8f2839f25d086af736a60e9eeb907d3b93b6e0e5",
    "execution": {
     "iopub.execute_input": "2025-06-10T17:35:16.624061Z",
     "iopub.status.busy": "2025-06-10T17:35:16.623270Z",
     "iopub.status.idle": "2025-06-10T17:35:18.528435Z",
     "shell.execute_reply": "2025-06-10T17:35:18.527406Z"
    },
    "papermill": {
     "duration": 1.91287,
     "end_time": "2025-06-10T17:35:18.530047",
     "exception": false,
     "start_time": "2025-06-10T17:35:16.617177",
     "status": "completed"
    },
    "tags": []
   },
   "outputs": [
    {
     "name": "stdout",
     "output_type": "stream",
     "text": [
      "/kaggle/input/summer-analytics-mid-hackathon/hacktest.csv\n",
      "/kaggle/input/summer-analytics-mid-hackathon/hacktrain.csv\n"
     ]
    }
   ],
   "source": [
    "# This Python 3 environment comes with many helpful analytics libraries installed\n",
    "# It is defined by the kaggle/python Docker image: https://github.com/kaggle/docker-python\n",
    "# For example, here's several helpful packages to load\n",
    "\n",
    "import numpy as np # linear algebra\n",
    "import pandas as pd # data processing, CSV file I/O (e.g. pd.read_csv)\n",
    "\n",
    "# Input data files are available in the read-only \"../input/\" directory\n",
    "# For example, running this (by clicking run or pressing Shift+Enter) will list all files under the input directory\n",
    "\n",
    "import os\n",
    "for dirname, _, filenames in os.walk('/kaggle/input'):\n",
    "    for filename in filenames:\n",
    "        print(os.path.join(dirname, filename))\n",
    "\n",
    "# You can write up to 20GB to the current directory (/kaggle/working/) that gets preserved as output when you create a version using \"Save & Run All\" \n",
    "# You can also write temporary files to /kaggle/temp/, but they won't be saved outside of the current session"
   ]
  },
  {
   "cell_type": "code",
   "execution_count": 2,
   "id": "066d4825",
   "metadata": {
    "execution": {
     "iopub.execute_input": "2025-06-10T17:35:18.539152Z",
     "iopub.status.busy": "2025-06-10T17:35:18.538716Z",
     "iopub.status.idle": "2025-06-10T17:35:20.978333Z",
     "shell.execute_reply": "2025-06-10T17:35:20.977340Z"
    },
    "papermill": {
     "duration": 2.445827,
     "end_time": "2025-06-10T17:35:20.979968",
     "exception": false,
     "start_time": "2025-06-10T17:35:18.534141",
     "status": "completed"
    },
    "tags": []
   },
   "outputs": [],
   "source": [
    "# Cell for importing packages\n",
    "import matplotlib.pyplot as plt\n",
    "from sklearn.preprocessing import LabelEncoder, StandardScaler\n",
    "from sklearn.model_selection import train_test_split\n",
    "from sklearn.linear_model import LogisticRegression\n",
    "from sklearn.metrics import accuracy_score, classification_report, confusion_matrix\n",
    "import seaborn as sns\n",
    "import warnings\n",
    "warnings.filterwarnings('ignore', category=RuntimeWarning)"
   ]
  },
  {
   "cell_type": "code",
   "execution_count": 3,
   "id": "8aad52ed",
   "metadata": {
    "execution": {
     "iopub.execute_input": "2025-06-10T17:35:20.989135Z",
     "iopub.status.busy": "2025-06-10T17:35:20.988710Z",
     "iopub.status.idle": "2025-06-10T17:35:21.144145Z",
     "shell.execute_reply": "2025-06-10T17:35:21.143141Z"
    },
    "papermill": {
     "duration": 0.161811,
     "end_time": "2025-06-10T17:35:21.145701",
     "exception": false,
     "start_time": "2025-06-10T17:35:20.983890",
     "status": "completed"
    },
    "tags": []
   },
   "outputs": [
    {
     "data": {
      "text/html": [
       "<div>\n",
       "<style scoped>\n",
       "    .dataframe tbody tr th:only-of-type {\n",
       "        vertical-align: middle;\n",
       "    }\n",
       "\n",
       "    .dataframe tbody tr th {\n",
       "        vertical-align: top;\n",
       "    }\n",
       "\n",
       "    .dataframe thead th {\n",
       "        text-align: right;\n",
       "    }\n",
       "</style>\n",
       "<table border=\"1\" class=\"dataframe\">\n",
       "  <thead>\n",
       "    <tr style=\"text-align: right;\">\n",
       "      <th></th>\n",
       "      <th>ID</th>\n",
       "      <th>class</th>\n",
       "      <th>20150720_N</th>\n",
       "      <th>20150602_N</th>\n",
       "      <th>20150517_N</th>\n",
       "      <th>20150501_N</th>\n",
       "      <th>20150415_N</th>\n",
       "      <th>20150330_N</th>\n",
       "      <th>20150314_N</th>\n",
       "      <th>20150226_N</th>\n",
       "      <th>...</th>\n",
       "      <th>20140610_N</th>\n",
       "      <th>20140525_N</th>\n",
       "      <th>20140509_N</th>\n",
       "      <th>20140423_N</th>\n",
       "      <th>20140407_N</th>\n",
       "      <th>20140322_N</th>\n",
       "      <th>20140218_N</th>\n",
       "      <th>20140202_N</th>\n",
       "      <th>20140117_N</th>\n",
       "      <th>20140101_N</th>\n",
       "    </tr>\n",
       "  </thead>\n",
       "  <tbody>\n",
       "    <tr>\n",
       "      <th>0</th>\n",
       "      <td>1</td>\n",
       "      <td>water</td>\n",
       "      <td>637.5950</td>\n",
       "      <td>658.668</td>\n",
       "      <td>-1882.030</td>\n",
       "      <td>-1924.36</td>\n",
       "      <td>997.904</td>\n",
       "      <td>-1739.990</td>\n",
       "      <td>630.087</td>\n",
       "      <td>NaN</td>\n",
       "      <td>...</td>\n",
       "      <td>NaN</td>\n",
       "      <td>-1043.160</td>\n",
       "      <td>-1942.490</td>\n",
       "      <td>267.138</td>\n",
       "      <td>NaN</td>\n",
       "      <td>NaN</td>\n",
       "      <td>211.328</td>\n",
       "      <td>-2203.020</td>\n",
       "      <td>-1180.19</td>\n",
       "      <td>433.906</td>\n",
       "    </tr>\n",
       "    <tr>\n",
       "      <th>1</th>\n",
       "      <td>2</td>\n",
       "      <td>water</td>\n",
       "      <td>634.2400</td>\n",
       "      <td>593.705</td>\n",
       "      <td>-1625.790</td>\n",
       "      <td>-1672.32</td>\n",
       "      <td>914.198</td>\n",
       "      <td>-692.386</td>\n",
       "      <td>707.626</td>\n",
       "      <td>-1670.590</td>\n",
       "      <td>...</td>\n",
       "      <td>NaN</td>\n",
       "      <td>-933.934</td>\n",
       "      <td>-625.385</td>\n",
       "      <td>120.059</td>\n",
       "      <td>364.858</td>\n",
       "      <td>476.972</td>\n",
       "      <td>220.878</td>\n",
       "      <td>-2250.000</td>\n",
       "      <td>-1360.56</td>\n",
       "      <td>524.075</td>\n",
       "    </tr>\n",
       "    <tr>\n",
       "      <th>2</th>\n",
       "      <td>4</td>\n",
       "      <td>water</td>\n",
       "      <td>58.0174</td>\n",
       "      <td>-1599.160</td>\n",
       "      <td>NaN</td>\n",
       "      <td>-1052.63</td>\n",
       "      <td>NaN</td>\n",
       "      <td>-1564.630</td>\n",
       "      <td>NaN</td>\n",
       "      <td>729.790</td>\n",
       "      <td>...</td>\n",
       "      <td>-1025.88</td>\n",
       "      <td>368.622</td>\n",
       "      <td>NaN</td>\n",
       "      <td>-1227.800</td>\n",
       "      <td>304.621</td>\n",
       "      <td>NaN</td>\n",
       "      <td>369.214</td>\n",
       "      <td>-2202.120</td>\n",
       "      <td>NaN</td>\n",
       "      <td>-1343.550</td>\n",
       "    </tr>\n",
       "    <tr>\n",
       "      <th>3</th>\n",
       "      <td>5</td>\n",
       "      <td>water</td>\n",
       "      <td>72.5180</td>\n",
       "      <td>NaN</td>\n",
       "      <td>380.436</td>\n",
       "      <td>-1256.93</td>\n",
       "      <td>515.805</td>\n",
       "      <td>-1413.180</td>\n",
       "      <td>-802.942</td>\n",
       "      <td>683.254</td>\n",
       "      <td>...</td>\n",
       "      <td>-1813.95</td>\n",
       "      <td>155.624</td>\n",
       "      <td>NaN</td>\n",
       "      <td>-924.073</td>\n",
       "      <td>432.150</td>\n",
       "      <td>282.833</td>\n",
       "      <td>298.320</td>\n",
       "      <td>-2197.360</td>\n",
       "      <td>NaN</td>\n",
       "      <td>-826.727</td>\n",
       "    </tr>\n",
       "    <tr>\n",
       "      <th>4</th>\n",
       "      <td>8</td>\n",
       "      <td>water</td>\n",
       "      <td>1136.4400</td>\n",
       "      <td>NaN</td>\n",
       "      <td>NaN</td>\n",
       "      <td>1647.83</td>\n",
       "      <td>1935.800</td>\n",
       "      <td>NaN</td>\n",
       "      <td>2158.980</td>\n",
       "      <td>NaN</td>\n",
       "      <td>...</td>\n",
       "      <td>1535.00</td>\n",
       "      <td>1959.430</td>\n",
       "      <td>-279.317</td>\n",
       "      <td>-384.915</td>\n",
       "      <td>-113.406</td>\n",
       "      <td>1020.720</td>\n",
       "      <td>1660.650</td>\n",
       "      <td>-116.801</td>\n",
       "      <td>-568.05</td>\n",
       "      <td>-1357.140</td>\n",
       "    </tr>\n",
       "  </tbody>\n",
       "</table>\n",
       "<p>5 rows × 29 columns</p>\n",
       "</div>"
      ],
      "text/plain": [
       "   ID  class  20150720_N  20150602_N  20150517_N  20150501_N  20150415_N  \\\n",
       "0   1  water    637.5950     658.668   -1882.030    -1924.36     997.904   \n",
       "1   2  water    634.2400     593.705   -1625.790    -1672.32     914.198   \n",
       "2   4  water     58.0174   -1599.160         NaN    -1052.63         NaN   \n",
       "3   5  water     72.5180         NaN     380.436    -1256.93     515.805   \n",
       "4   8  water   1136.4400         NaN         NaN     1647.83    1935.800   \n",
       "\n",
       "   20150330_N  20150314_N  20150226_N  ...  20140610_N  20140525_N  \\\n",
       "0   -1739.990     630.087         NaN  ...         NaN   -1043.160   \n",
       "1    -692.386     707.626   -1670.590  ...         NaN    -933.934   \n",
       "2   -1564.630         NaN     729.790  ...    -1025.88     368.622   \n",
       "3   -1413.180    -802.942     683.254  ...    -1813.95     155.624   \n",
       "4         NaN    2158.980         NaN  ...     1535.00    1959.430   \n",
       "\n",
       "   20140509_N  20140423_N  20140407_N  20140322_N  20140218_N  20140202_N  \\\n",
       "0   -1942.490     267.138         NaN         NaN     211.328   -2203.020   \n",
       "1    -625.385     120.059     364.858     476.972     220.878   -2250.000   \n",
       "2         NaN   -1227.800     304.621         NaN     369.214   -2202.120   \n",
       "3         NaN    -924.073     432.150     282.833     298.320   -2197.360   \n",
       "4    -279.317    -384.915    -113.406    1020.720    1660.650    -116.801   \n",
       "\n",
       "   20140117_N  20140101_N  \n",
       "0    -1180.19     433.906  \n",
       "1    -1360.56     524.075  \n",
       "2         NaN   -1343.550  \n",
       "3         NaN    -826.727  \n",
       "4     -568.05   -1357.140  \n",
       "\n",
       "[5 rows x 29 columns]"
      ]
     },
     "execution_count": 3,
     "metadata": {},
     "output_type": "execute_result"
    }
   ],
   "source": [
    "# cell for importing train and test files\n",
    "train = pd.read_csv(\"/kaggle/input/summer-analytics-mid-hackathon/hacktrain.csv\")\n",
    "test = pd.read_csv(\"/kaggle/input/summer-analytics-mid-hackathon/hacktest.csv\")\n",
    "test.drop([\"Unnamed: 0\"], axis=1, inplace=True)\n",
    "train.drop([\"Unnamed: 0\"], axis=1, inplace=True)\n",
    "train.head()"
   ]
  },
  {
   "cell_type": "code",
   "execution_count": 4,
   "id": "fa40c4b4",
   "metadata": {
    "execution": {
     "iopub.execute_input": "2025-06-10T17:35:21.154743Z",
     "iopub.status.busy": "2025-06-10T17:35:21.154413Z",
     "iopub.status.idle": "2025-06-10T17:35:21.165029Z",
     "shell.execute_reply": "2025-06-10T17:35:21.164217Z"
    },
    "papermill": {
     "duration": 0.016872,
     "end_time": "2025-06-10T17:35:21.166519",
     "exception": false,
     "start_time": "2025-06-10T17:35:21.149647",
     "status": "completed"
    },
    "tags": []
   },
   "outputs": [
    {
     "data": {
      "text/plain": [
       "array(['water', 'forest', 'impervious', 'farm', 'grass', 'orchard'],\n",
       "      dtype=object)"
      ]
     },
     "execution_count": 4,
     "metadata": {},
     "output_type": "execute_result"
    }
   ],
   "source": [
    "train.shape\n",
    "train.columns\n",
    "train[\"class\"].unique()"
   ]
  },
  {
   "cell_type": "code",
   "execution_count": 5,
   "id": "8d3764fd",
   "metadata": {
    "execution": {
     "iopub.execute_input": "2025-06-10T17:35:21.175281Z",
     "iopub.status.busy": "2025-06-10T17:35:21.174983Z",
     "iopub.status.idle": "2025-06-10T17:35:21.195969Z",
     "shell.execute_reply": "2025-06-10T17:35:21.195067Z"
    },
    "papermill": {
     "duration": 0.026915,
     "end_time": "2025-06-10T17:35:21.197382",
     "exception": false,
     "start_time": "2025-06-10T17:35:21.170467",
     "status": "completed"
    },
    "tags": []
   },
   "outputs": [
    {
     "data": {
      "text/html": [
       "<div>\n",
       "<style scoped>\n",
       "    .dataframe tbody tr th:only-of-type {\n",
       "        vertical-align: middle;\n",
       "    }\n",
       "\n",
       "    .dataframe tbody tr th {\n",
       "        vertical-align: top;\n",
       "    }\n",
       "\n",
       "    .dataframe thead th {\n",
       "        text-align: right;\n",
       "    }\n",
       "</style>\n",
       "<table border=\"1\" class=\"dataframe\">\n",
       "  <thead>\n",
       "    <tr style=\"text-align: right;\">\n",
       "      <th></th>\n",
       "      <th>ID</th>\n",
       "      <th>20150720_N</th>\n",
       "      <th>20150602_N</th>\n",
       "      <th>20150517_N</th>\n",
       "      <th>20150501_N</th>\n",
       "      <th>20150415_N</th>\n",
       "      <th>20150330_N</th>\n",
       "      <th>20150314_N</th>\n",
       "      <th>20150226_N</th>\n",
       "      <th>20150210_N</th>\n",
       "      <th>...</th>\n",
       "      <th>20140610_N</th>\n",
       "      <th>20140525_N</th>\n",
       "      <th>20140509_N</th>\n",
       "      <th>20140423_N</th>\n",
       "      <th>20140407_N</th>\n",
       "      <th>20140322_N</th>\n",
       "      <th>20140218_N</th>\n",
       "      <th>20140202_N</th>\n",
       "      <th>20140117_N</th>\n",
       "      <th>20140101_N</th>\n",
       "    </tr>\n",
       "  </thead>\n",
       "  <tbody>\n",
       "    <tr>\n",
       "      <th>0</th>\n",
       "      <td>1</td>\n",
       "      <td>7466.42</td>\n",
       "      <td>413.162</td>\n",
       "      <td>5761.00</td>\n",
       "      <td>5625.45</td>\n",
       "      <td>489.403</td>\n",
       "      <td>3923.84</td>\n",
       "      <td>3097.110</td>\n",
       "      <td>6766.42</td>\n",
       "      <td>2829.13</td>\n",
       "      <td>...</td>\n",
       "      <td>801.184</td>\n",
       "      <td>927.115</td>\n",
       "      <td>4704.14</td>\n",
       "      <td>6378.42</td>\n",
       "      <td>340.949</td>\n",
       "      <td>2695.570</td>\n",
       "      <td>527.268</td>\n",
       "      <td>4736.75</td>\n",
       "      <td>601.843</td>\n",
       "      <td>6639.760</td>\n",
       "    </tr>\n",
       "    <tr>\n",
       "      <th>1</th>\n",
       "      <td>2</td>\n",
       "      <td>7235.26</td>\n",
       "      <td>6037.350</td>\n",
       "      <td>1027.56</td>\n",
       "      <td>6085.14</td>\n",
       "      <td>1618.050</td>\n",
       "      <td>6668.54</td>\n",
       "      <td>2513.990</td>\n",
       "      <td>1051.69</td>\n",
       "      <td>7268.22</td>\n",
       "      <td>...</td>\n",
       "      <td>5533.470</td>\n",
       "      <td>5103.040</td>\n",
       "      <td>5216.12</td>\n",
       "      <td>4885.27</td>\n",
       "      <td>4366.790</td>\n",
       "      <td>1234.140</td>\n",
       "      <td>3298.110</td>\n",
       "      <td>6942.68</td>\n",
       "      <td>1070.440</td>\n",
       "      <td>842.101</td>\n",
       "    </tr>\n",
       "    <tr>\n",
       "      <th>2</th>\n",
       "      <td>3</td>\n",
       "      <td>7425.08</td>\n",
       "      <td>6969.980</td>\n",
       "      <td>1177.94</td>\n",
       "      <td>7408.93</td>\n",
       "      <td>861.061</td>\n",
       "      <td>7644.43</td>\n",
       "      <td>814.458</td>\n",
       "      <td>1504.29</td>\n",
       "      <td>7002.63</td>\n",
       "      <td>...</td>\n",
       "      <td>1981.390</td>\n",
       "      <td>6204.540</td>\n",
       "      <td>7021.69</td>\n",
       "      <td>5704.41</td>\n",
       "      <td>4897.450</td>\n",
       "      <td>1789.990</td>\n",
       "      <td>2206.100</td>\n",
       "      <td>6928.93</td>\n",
       "      <td>1036.560</td>\n",
       "      <td>831.441</td>\n",
       "    </tr>\n",
       "    <tr>\n",
       "      <th>3</th>\n",
       "      <td>4</td>\n",
       "      <td>7119.12</td>\n",
       "      <td>1731.620</td>\n",
       "      <td>6311.93</td>\n",
       "      <td>6441.61</td>\n",
       "      <td>465.979</td>\n",
       "      <td>7128.42</td>\n",
       "      <td>1649.120</td>\n",
       "      <td>6935.22</td>\n",
       "      <td>2176.80</td>\n",
       "      <td>...</td>\n",
       "      <td>959.344</td>\n",
       "      <td>5794.150</td>\n",
       "      <td>1045.57</td>\n",
       "      <td>5572.90</td>\n",
       "      <td>586.287</td>\n",
       "      <td>685.906</td>\n",
       "      <td>1287.000</td>\n",
       "      <td>6734.72</td>\n",
       "      <td>824.584</td>\n",
       "      <td>6883.610</td>\n",
       "    </tr>\n",
       "    <tr>\n",
       "      <th>4</th>\n",
       "      <td>5</td>\n",
       "      <td>7519.55</td>\n",
       "      <td>8130.260</td>\n",
       "      <td>1482.54</td>\n",
       "      <td>7879.53</td>\n",
       "      <td>1001.210</td>\n",
       "      <td>7937.60</td>\n",
       "      <td>4122.530</td>\n",
       "      <td>1094.51</td>\n",
       "      <td>7951.44</td>\n",
       "      <td>...</td>\n",
       "      <td>7636.070</td>\n",
       "      <td>6996.760</td>\n",
       "      <td>7413.43</td>\n",
       "      <td>4596.13</td>\n",
       "      <td>4511.700</td>\n",
       "      <td>1413.520</td>\n",
       "      <td>3283.940</td>\n",
       "      <td>7937.68</td>\n",
       "      <td>1857.800</td>\n",
       "      <td>1336.920</td>\n",
       "    </tr>\n",
       "  </tbody>\n",
       "</table>\n",
       "<p>5 rows × 28 columns</p>\n",
       "</div>"
      ],
      "text/plain": [
       "   ID  20150720_N  20150602_N  20150517_N  20150501_N  20150415_N  20150330_N  \\\n",
       "0   1     7466.42     413.162     5761.00     5625.45     489.403     3923.84   \n",
       "1   2     7235.26    6037.350     1027.56     6085.14    1618.050     6668.54   \n",
       "2   3     7425.08    6969.980     1177.94     7408.93     861.061     7644.43   \n",
       "3   4     7119.12    1731.620     6311.93     6441.61     465.979     7128.42   \n",
       "4   5     7519.55    8130.260     1482.54     7879.53    1001.210     7937.60   \n",
       "\n",
       "   20150314_N  20150226_N  20150210_N  ...  20140610_N  20140525_N  \\\n",
       "0    3097.110     6766.42     2829.13  ...     801.184     927.115   \n",
       "1    2513.990     1051.69     7268.22  ...    5533.470    5103.040   \n",
       "2     814.458     1504.29     7002.63  ...    1981.390    6204.540   \n",
       "3    1649.120     6935.22     2176.80  ...     959.344    5794.150   \n",
       "4    4122.530     1094.51     7951.44  ...    7636.070    6996.760   \n",
       "\n",
       "   20140509_N  20140423_N  20140407_N  20140322_N  20140218_N  20140202_N  \\\n",
       "0     4704.14     6378.42     340.949    2695.570     527.268     4736.75   \n",
       "1     5216.12     4885.27    4366.790    1234.140    3298.110     6942.68   \n",
       "2     7021.69     5704.41    4897.450    1789.990    2206.100     6928.93   \n",
       "3     1045.57     5572.90     586.287     685.906    1287.000     6734.72   \n",
       "4     7413.43     4596.13    4511.700    1413.520    3283.940     7937.68   \n",
       "\n",
       "   20140117_N  20140101_N  \n",
       "0     601.843    6639.760  \n",
       "1    1070.440     842.101  \n",
       "2    1036.560     831.441  \n",
       "3     824.584    6883.610  \n",
       "4    1857.800    1336.920  \n",
       "\n",
       "[5 rows x 28 columns]"
      ]
     },
     "execution_count": 5,
     "metadata": {},
     "output_type": "execute_result"
    }
   ],
   "source": [
    "test.head()"
   ]
  },
  {
   "cell_type": "code",
   "execution_count": 6,
   "id": "31a9d151",
   "metadata": {
    "execution": {
     "iopub.execute_input": "2025-06-10T17:35:21.206978Z",
     "iopub.status.busy": "2025-06-10T17:35:21.206674Z",
     "iopub.status.idle": "2025-06-10T17:35:21.210644Z",
     "shell.execute_reply": "2025-06-10T17:35:21.209863Z"
    },
    "papermill": {
     "duration": 0.010398,
     "end_time": "2025-06-10T17:35:21.212021",
     "exception": false,
     "start_time": "2025-06-10T17:35:21.201623",
     "status": "completed"
    },
    "tags": []
   },
   "outputs": [],
   "source": [
    "le = LabelEncoder()\n",
    "scaler = StandardScaler()"
   ]
  },
  {
   "cell_type": "code",
   "execution_count": 7,
   "id": "162fd4e9",
   "metadata": {
    "execution": {
     "iopub.execute_input": "2025-06-10T17:35:21.221566Z",
     "iopub.status.busy": "2025-06-10T17:35:21.221195Z",
     "iopub.status.idle": "2025-06-10T17:35:21.228737Z",
     "shell.execute_reply": "2025-06-10T17:35:21.227915Z"
    },
    "papermill": {
     "duration": 0.013792,
     "end_time": "2025-06-10T17:35:21.230015",
     "exception": false,
     "start_time": "2025-06-10T17:35:21.216223",
     "status": "completed"
    },
    "tags": []
   },
   "outputs": [],
   "source": [
    "def preprocess(df, labels=True):\n",
    "    \"\"\"\n",
    "    function defined to preprocess the dataset at once (preprocessing pipeline).\n",
    "    labels=False will be used to preprocess unlabelled data.\n",
    "    \"\"\"\n",
    "    # Impute missing values with column median\n",
    "    ndvi_cols = [col for col in df.columns if '_N' in col]\n",
    "    df[ndvi_cols] = df[ndvi_cols].apply(lambda x: x.fillna(x.median()), axis=0)\n",
    "    \n",
    "    # Apply rolling mean smoothing -- only three is working.\n",
    "    df[ndvi_cols] = df[ndvi_cols].rolling(window=3, min_periods=1).mean()\n",
    "\n",
    "    df['ndvi_mean'] = df[ndvi_cols].mean(axis=1)\n",
    "    df['ndvi_std'] = df[ndvi_cols].std(axis=1)\n",
    "    df['ndvi_min'] = df[ndvi_cols].min(axis=1)\n",
    "    df['ndvi_max'] = df[ndvi_cols].max(axis=1)\n",
    "    df['ndvi_median'] = df[ndvi_cols].median(axis=1)\n",
    "    \n",
    "\n",
    "    feature = df[ndvi_cols + ['ndvi_mean', 'ndvi_std', 'ndvi_min', 'ndvi_max', 'ndvi_median']]\n",
    "    feature_scaled = scaler.fit_transform(feature)\n",
    "\n",
    "    if labels:\n",
    "        df[\"class_encoded\"] = le.fit_transform(df[\"class\"])\n",
    "        target = df['class_encoded']\n",
    "        return feature_scaled, target\n",
    "    return feature_scaled"
   ]
  },
  {
   "cell_type": "code",
   "execution_count": 8,
   "id": "36969a3e",
   "metadata": {
    "execution": {
     "iopub.execute_input": "2025-06-10T17:35:21.239937Z",
     "iopub.status.busy": "2025-06-10T17:35:21.239621Z",
     "iopub.status.idle": "2025-06-10T17:35:21.344838Z",
     "shell.execute_reply": "2025-06-10T17:35:21.343935Z"
    },
    "papermill": {
     "duration": 0.112427,
     "end_time": "2025-06-10T17:35:21.346556",
     "exception": false,
     "start_time": "2025-06-10T17:35:21.234129",
     "status": "completed"
    },
    "tags": []
   },
   "outputs": [],
   "source": [
    "feature, target = preprocess(train)"
   ]
  },
  {
   "cell_type": "code",
   "execution_count": 9,
   "id": "57f9dfbc",
   "metadata": {
    "execution": {
     "iopub.execute_input": "2025-06-10T17:35:21.356691Z",
     "iopub.status.busy": "2025-06-10T17:35:21.355839Z",
     "iopub.status.idle": "2025-06-10T17:35:21.374221Z",
     "shell.execute_reply": "2025-06-10T17:35:21.373369Z"
    },
    "papermill": {
     "duration": 0.025053,
     "end_time": "2025-06-10T17:35:21.375894",
     "exception": false,
     "start_time": "2025-06-10T17:35:21.350841",
     "status": "completed"
    },
    "tags": []
   },
   "outputs": [],
   "source": [
    "# Split into train and validation sets (80/20 split, stratified by class)\n",
    "X_train, X_val, y_train, y_val = train_test_split(feature, target, test_size=0.2, stratify=target, random_state=42)"
   ]
  },
  {
   "cell_type": "code",
   "execution_count": 10,
   "id": "1cd99a36",
   "metadata": {
    "execution": {
     "iopub.execute_input": "2025-06-10T17:35:21.385378Z",
     "iopub.status.busy": "2025-06-10T17:35:21.385042Z",
     "iopub.status.idle": "2025-06-10T17:35:22.291923Z",
     "shell.execute_reply": "2025-06-10T17:35:22.291214Z"
    },
    "papermill": {
     "duration": 0.913673,
     "end_time": "2025-06-10T17:35:22.293744",
     "exception": false,
     "start_time": "2025-06-10T17:35:21.380071",
     "status": "completed"
    },
    "tags": []
   },
   "outputs": [
    {
     "data": {
      "text/html": [
       "<style>#sk-container-id-1 {color: black;background-color: white;}#sk-container-id-1 pre{padding: 0;}#sk-container-id-1 div.sk-toggleable {background-color: white;}#sk-container-id-1 label.sk-toggleable__label {cursor: pointer;display: block;width: 100%;margin-bottom: 0;padding: 0.3em;box-sizing: border-box;text-align: center;}#sk-container-id-1 label.sk-toggleable__label-arrow:before {content: \"▸\";float: left;margin-right: 0.25em;color: #696969;}#sk-container-id-1 label.sk-toggleable__label-arrow:hover:before {color: black;}#sk-container-id-1 div.sk-estimator:hover label.sk-toggleable__label-arrow:before {color: black;}#sk-container-id-1 div.sk-toggleable__content {max-height: 0;max-width: 0;overflow: hidden;text-align: left;background-color: #f0f8ff;}#sk-container-id-1 div.sk-toggleable__content pre {margin: 0.2em;color: black;border-radius: 0.25em;background-color: #f0f8ff;}#sk-container-id-1 input.sk-toggleable__control:checked~div.sk-toggleable__content {max-height: 200px;max-width: 100%;overflow: auto;}#sk-container-id-1 input.sk-toggleable__control:checked~label.sk-toggleable__label-arrow:before {content: \"▾\";}#sk-container-id-1 div.sk-estimator input.sk-toggleable__control:checked~label.sk-toggleable__label {background-color: #d4ebff;}#sk-container-id-1 div.sk-label input.sk-toggleable__control:checked~label.sk-toggleable__label {background-color: #d4ebff;}#sk-container-id-1 input.sk-hidden--visually {border: 0;clip: rect(1px 1px 1px 1px);clip: rect(1px, 1px, 1px, 1px);height: 1px;margin: -1px;overflow: hidden;padding: 0;position: absolute;width: 1px;}#sk-container-id-1 div.sk-estimator {font-family: monospace;background-color: #f0f8ff;border: 1px dotted black;border-radius: 0.25em;box-sizing: border-box;margin-bottom: 0.5em;}#sk-container-id-1 div.sk-estimator:hover {background-color: #d4ebff;}#sk-container-id-1 div.sk-parallel-item::after {content: \"\";width: 100%;border-bottom: 1px solid gray;flex-grow: 1;}#sk-container-id-1 div.sk-label:hover label.sk-toggleable__label {background-color: #d4ebff;}#sk-container-id-1 div.sk-serial::before {content: \"\";position: absolute;border-left: 1px solid gray;box-sizing: border-box;top: 0;bottom: 0;left: 50%;z-index: 0;}#sk-container-id-1 div.sk-serial {display: flex;flex-direction: column;align-items: center;background-color: white;padding-right: 0.2em;padding-left: 0.2em;position: relative;}#sk-container-id-1 div.sk-item {position: relative;z-index: 1;}#sk-container-id-1 div.sk-parallel {display: flex;align-items: stretch;justify-content: center;background-color: white;position: relative;}#sk-container-id-1 div.sk-item::before, #sk-container-id-1 div.sk-parallel-item::before {content: \"\";position: absolute;border-left: 1px solid gray;box-sizing: border-box;top: 0;bottom: 0;left: 50%;z-index: -1;}#sk-container-id-1 div.sk-parallel-item {display: flex;flex-direction: column;z-index: 1;position: relative;background-color: white;}#sk-container-id-1 div.sk-parallel-item:first-child::after {align-self: flex-end;width: 50%;}#sk-container-id-1 div.sk-parallel-item:last-child::after {align-self: flex-start;width: 50%;}#sk-container-id-1 div.sk-parallel-item:only-child::after {width: 0;}#sk-container-id-1 div.sk-dashed-wrapped {border: 1px dashed gray;margin: 0 0.4em 0.5em 0.4em;box-sizing: border-box;padding-bottom: 0.4em;background-color: white;}#sk-container-id-1 div.sk-label label {font-family: monospace;font-weight: bold;display: inline-block;line-height: 1.2em;}#sk-container-id-1 div.sk-label-container {text-align: center;}#sk-container-id-1 div.sk-container {/* jupyter's `normalize.less` sets `[hidden] { display: none; }` but bootstrap.min.css set `[hidden] { display: none !important; }` so we also need the `!important` here to be able to override the default hidden behavior on the sphinx rendered scikit-learn.org. See: https://github.com/scikit-learn/scikit-learn/issues/21755 */display: inline-block !important;position: relative;}#sk-container-id-1 div.sk-text-repr-fallback {display: none;}</style><div id=\"sk-container-id-1\" class=\"sk-top-container\"><div class=\"sk-text-repr-fallback\"><pre>LogisticRegression(max_iter=1500, multi_class=&#x27;multinomial&#x27;, random_state=42)</pre><b>In a Jupyter environment, please rerun this cell to show the HTML representation or trust the notebook. <br />On GitHub, the HTML representation is unable to render, please try loading this page with nbviewer.org.</b></div><div class=\"sk-container\" hidden><div class=\"sk-item\"><div class=\"sk-estimator sk-toggleable\"><input class=\"sk-toggleable__control sk-hidden--visually\" id=\"sk-estimator-id-1\" type=\"checkbox\" checked><label for=\"sk-estimator-id-1\" class=\"sk-toggleable__label sk-toggleable__label-arrow\">LogisticRegression</label><div class=\"sk-toggleable__content\"><pre>LogisticRegression(max_iter=1500, multi_class=&#x27;multinomial&#x27;, random_state=42)</pre></div></div></div></div></div>"
      ],
      "text/plain": [
       "LogisticRegression(max_iter=1500, multi_class='multinomial', random_state=42)"
      ]
     },
     "execution_count": 10,
     "metadata": {},
     "output_type": "execute_result"
    }
   ],
   "source": [
    "model = LogisticRegression(multi_class='multinomial', solver='lbfgs', max_iter=1500, random_state=42)\n",
    "model.fit(X_train, y_train)"
   ]
  },
  {
   "cell_type": "code",
   "execution_count": 11,
   "id": "a4e9405c",
   "metadata": {
    "execution": {
     "iopub.execute_input": "2025-06-10T17:35:22.309674Z",
     "iopub.status.busy": "2025-06-10T17:35:22.309335Z",
     "iopub.status.idle": "2025-06-10T17:35:22.328510Z",
     "shell.execute_reply": "2025-06-10T17:35:22.327706Z"
    },
    "papermill": {
     "duration": 0.029662,
     "end_time": "2025-06-10T17:35:22.330429",
     "exception": false,
     "start_time": "2025-06-10T17:35:22.300767",
     "status": "completed"
    },
    "tags": []
   },
   "outputs": [
    {
     "name": "stdout",
     "output_type": "stream",
     "text": [
      "Validation Accuracy: 0.9281\n"
     ]
    }
   ],
   "source": [
    "# Predict on the validation set\n",
    "y_val_pred = model.predict(X_val)\n",
    "\n",
    "# Calculate accuracy\n",
    "val_accuracy = accuracy_score(y_val, y_val_pred)\n",
    "print(f\"Validation Accuracy: {val_accuracy:.4f}\")"
   ]
  },
  {
   "cell_type": "code",
   "execution_count": 12,
   "id": "2b5c4627",
   "metadata": {
    "execution": {
     "iopub.execute_input": "2025-06-10T17:35:22.346921Z",
     "iopub.status.busy": "2025-06-10T17:35:22.346589Z",
     "iopub.status.idle": "2025-06-10T17:35:22.368434Z",
     "shell.execute_reply": "2025-06-10T17:35:22.367441Z"
    },
    "papermill": {
     "duration": 0.032104,
     "end_time": "2025-06-10T17:35:22.370627",
     "exception": false,
     "start_time": "2025-06-10T17:35:22.338523",
     "status": "completed"
    },
    "tags": []
   },
   "outputs": [
    {
     "name": "stdout",
     "output_type": "stream",
     "text": [
      "\n",
      "Classification Report:\n",
      "              precision    recall  f1-score   support\n",
      "\n",
      "        farm       0.76      0.67      0.71       168\n",
      "      forest       0.96      0.99      0.97      1232\n",
      "       grass       0.85      0.56      0.68        39\n",
      "  impervious       0.86      0.85      0.85       134\n",
      "     orchard       1.00      0.33      0.50         6\n",
      "       water       0.86      0.86      0.86        21\n",
      "\n",
      "    accuracy                           0.93      1600\n",
      "   macro avg       0.88      0.71      0.76      1600\n",
      "weighted avg       0.92      0.93      0.92      1600\n",
      "\n"
     ]
    }
   ],
   "source": [
    "# Detailed performance report\n",
    "print(\"\\nClassification Report:\")\n",
    "print(classification_report(y_val, y_val_pred, target_names=le.classes_))\n",
    "\n",
    "# Confusion matrix to see wrong classifications\n",
    "cf = confusion_matrix(y_val, y_val_pred)"
   ]
  },
  {
   "cell_type": "code",
   "execution_count": 13,
   "id": "155c5cb4",
   "metadata": {
    "execution": {
     "iopub.execute_input": "2025-06-10T17:35:22.386720Z",
     "iopub.status.busy": "2025-06-10T17:35:22.386382Z",
     "iopub.status.idle": "2025-06-10T17:35:22.770169Z",
     "shell.execute_reply": "2025-06-10T17:35:22.769235Z"
    },
    "papermill": {
     "duration": 0.393702,
     "end_time": "2025-06-10T17:35:22.771944",
     "exception": false,
     "start_time": "2025-06-10T17:35:22.378242",
     "status": "completed"
    },
    "tags": []
   },
   "outputs": [
    {
     "data": {
      "image/png": "[encoded data removed]",
      "text/plain": [
       "<Figure size 800x600 with 2 Axes>"
      ]
     },
     "metadata": {},
     "output_type": "display_data"
    }
   ],
   "source": [
    "# Plotting results\n",
    "plt.figure(figsize=(8, 6))\n",
    "sns.heatmap(cf, annot=True, fmt='d', cmap='coolwarm',\n",
    "            xticklabels=le.classes_, yticklabels=le.classes_)\n",
    "plt.xlabel('Predicted Class')\n",
    "plt.ylabel('True Class')\n",
    "plt.title('Confusion Matrix')\n",
    "plt.show()"
   ]
  },
  {
   "cell_type": "code",
   "execution_count": 14,
   "id": "4ecb2fbc",
   "metadata": {
    "execution": {
     "iopub.execute_input": "2025-06-10T17:35:22.784247Z",
     "iopub.status.busy": "2025-06-10T17:35:22.783209Z",
     "iopub.status.idle": "2025-06-10T17:35:22.825659Z",
     "shell.execute_reply": "2025-06-10T17:35:22.824698Z"
    },
    "papermill": {
     "duration": 0.050064,
     "end_time": "2025-06-10T17:35:22.827343",
     "exception": false,
     "start_time": "2025-06-10T17:35:22.777279",
     "status": "completed"
    },
    "tags": []
   },
   "outputs": [],
   "source": [
    "test_scaled = preprocess(test, labels=False)"
   ]
  },
  {
   "cell_type": "code",
   "execution_count": 15,
   "id": "bd081cbc",
   "metadata": {
    "execution": {
     "iopub.execute_input": "2025-06-10T17:35:22.839884Z",
     "iopub.status.busy": "2025-06-10T17:35:22.839174Z",
     "iopub.status.idle": "2025-06-10T17:35:22.844842Z",
     "shell.execute_reply": "2025-06-10T17:35:22.844020Z"
    },
    "papermill": {
     "duration": 0.013193,
     "end_time": "2025-06-10T17:35:22.846263",
     "exception": false,
     "start_time": "2025-06-10T17:35:22.833070",
     "status": "completed"
    },
    "tags": []
   },
   "outputs": [],
   "source": [
    "predictions_encoded = model.predict(test_scaled)\n",
    "predictions = le.inverse_transform(predictions_encoded)"
   ]
  },
  {
   "cell_type": "code",
   "execution_count": 16,
   "id": "7ce44d8f",
   "metadata": {
    "execution": {
     "iopub.execute_input": "2025-06-10T17:35:22.858270Z",
     "iopub.status.busy": "2025-06-10T17:35:22.857944Z",
     "iopub.status.idle": "2025-06-10T17:35:22.863256Z",
     "shell.execute_reply": "2025-06-10T17:35:22.862535Z"
    },
    "papermill": {
     "duration": 0.01305,
     "end_time": "2025-06-10T17:35:22.864756",
     "exception": false,
     "start_time": "2025-06-10T17:35:22.851706",
     "status": "completed"
    },
    "tags": []
   },
   "outputs": [
    {
     "data": {
      "text/plain": [
       "(2845,)"
      ]
     },
     "execution_count": 16,
     "metadata": {},
     "output_type": "execute_result"
    }
   ],
   "source": [
    "predictions.shape"
   ]
  },
  {
   "cell_type": "code",
   "execution_count": 17,
   "id": "7cac53d0",
   "metadata": {
    "execution": {
     "iopub.execute_input": "2025-06-10T17:35:22.877390Z",
     "iopub.status.busy": "2025-06-10T17:35:22.876408Z",
     "iopub.status.idle": "2025-06-10T17:35:22.886075Z",
     "shell.execute_reply": "2025-06-10T17:35:22.885206Z"
    },
    "papermill": {
     "duration": 0.017578,
     "end_time": "2025-06-10T17:35:22.887705",
     "exception": false,
     "start_time": "2025-06-10T17:35:22.870127",
     "status": "completed"
    },
    "tags": []
   },
   "outputs": [
    {
     "data": {
      "text/html": [
       "<div>\n",
       "<style scoped>\n",
       "    .dataframe tbody tr th:only-of-type {\n",
       "        vertical-align: middle;\n",
       "    }\n",
       "\n",
       "    .dataframe tbody tr th {\n",
       "        vertical-align: top;\n",
       "    }\n",
       "\n",
       "    .dataframe thead th {\n",
       "        text-align: right;\n",
       "    }\n",
       "</style>\n",
       "<table border=\"1\" class=\"dataframe\">\n",
       "  <thead>\n",
       "    <tr style=\"text-align: right;\">\n",
       "      <th></th>\n",
       "      <th>ID</th>\n",
       "      <th>class</th>\n",
       "    </tr>\n",
       "  </thead>\n",
       "  <tbody>\n",
       "    <tr>\n",
       "      <th>0</th>\n",
       "      <td>1</td>\n",
       "      <td>orchard</td>\n",
       "    </tr>\n",
       "    <tr>\n",
       "      <th>1</th>\n",
       "      <td>2</td>\n",
       "      <td>orchard</td>\n",
       "    </tr>\n",
       "    <tr>\n",
       "      <th>2</th>\n",
       "      <td>3</td>\n",
       "      <td>orchard</td>\n",
       "    </tr>\n",
       "    <tr>\n",
       "      <th>3</th>\n",
       "      <td>4</td>\n",
       "      <td>orchard</td>\n",
       "    </tr>\n",
       "    <tr>\n",
       "      <th>4</th>\n",
       "      <td>5</td>\n",
       "      <td>orchard</td>\n",
       "    </tr>\n",
       "  </tbody>\n",
       "</table>\n",
       "</div>"
      ],
      "text/plain": [
       "   ID    class\n",
       "0   1  orchard\n",
       "1   2  orchard\n",
       "2   3  orchard\n",
       "3   4  orchard\n",
       "4   5  orchard"
      ]
     },
     "execution_count": 17,
     "metadata": {},
     "output_type": "execute_result"
    }
   ],
   "source": [
    "table = pd.DataFrame({\n",
    "    'ID' : test['ID'],\n",
    "    'class' : predictions\n",
    "})\n",
    "table.head()"
   ]
  },
  {
   "cell_type": "code",
   "execution_count": 18,
   "id": "b5af7a30",
   "metadata": {
    "execution": {
     "iopub.execute_input": "2025-06-10T17:35:22.899592Z",
     "iopub.status.busy": "2025-06-10T17:35:22.899236Z",
     "iopub.status.idle": "2025-06-10T17:35:22.912261Z",
     "shell.execute_reply": "2025-06-10T17:35:22.911288Z"
    },
    "papermill": {
     "duration": 0.020647,
     "end_time": "2025-06-10T17:35:22.913830",
     "exception": false,
     "start_time": "2025-06-10T17:35:22.893183",
     "status": "completed"
    },
    "tags": []
   },
   "outputs": [
    {
     "name": "stdout",
     "output_type": "stream",
     "text": [
      "Thanks\n"
     ]
    }
   ],
   "source": [
    "table.to_csv(\"submission.csv\", index=False)\n",
    "print(\"Thanks\")"
   ]
  }
 ],
 "metadata": {
  "kaggle": {
   "accelerator": "none",
   "dataSources": [
    {
     "databundleVersionId": 12585144,
     "sourceId": 104491,
     "sourceType": "competition"
    }
   ],
   "dockerImageVersionId": 31040,
   "isGpuEnabled": false,
   "isInternetEnabled": true,
   "language": "python",
   "sourceType": "notebook"
  },
  "kernelspec": {
   "display_name": "Python 3",
   "language": "python",
   "name": "python3"
  },
  "language_info": {
   "codemirror_mode": {
    "name": "ipython",
    "version": 3
   },
   "file_extension": ".py",
   "mimetype": "text/x-python",
   "name": "python",
   "nbconvert_exporter": "python",
   "pygments_lexer": "ipython3",
   "version": "3.11.11"
  },
  "papermill": {
   "default_parameters": {},
   "duration": 11.824198,
   "end_time": "2025-06-10T17:35:23.639516",
   "environment_variables": {},
   "exception": null,
   "input_path": "__notebook__.ipynb",
   "output_path": "__notebook__.ipynb",
   "parameters": {},
   "start_time": "2025-06-10T17:35:11.815318",
   "version": "2.6.0"
  }
 },
 "nbformat": 4,
 "nbformat_minor": 5
}
